{
  "cells": [
    {
      "cell_type": "markdown",
      "metadata": {
        "id": "0aStgWSO0E0E"
      },
      "source": [
        "# **ETL PROCESS**"
      ]
    },
    {
      "cell_type": "markdown",
      "metadata": {},
      "source": [
        "## Description\n",
        "\n",
        "This notebook performs an ETL (Extract, Transform, Load) process on US air pollution data from 2000 to 2016. It imports the raw CSV, cleans the data by removing missing values and unnecessary columns, renames columns for clarity, and prepares a sample for analysis. The final processed data is saved for further use in analytics or machine learning."
      ]
    },
    {
      "cell_type": "markdown",
      "metadata": {
        "id": "1eLEkw5O0ECa"
      },
      "source": [
        "## Objectives\n",
        "\n",
        "* Fetch data and save it as raw data file and upload it to the workspace. Take the data through the ETL process to clean it.\n",
        "\n",
        "## Inputs\n",
        "\n",
        "* Raw CSV data file.\n",
        "\n",
        "## Outputs\n",
        "\n",
        "* This notebook will hope to generate a clean CSV file of the data. \n",
        "\n",
        "## Additional Comments\n",
        "\n",
        "* This dataset was sourced from Kaggle and contains data regarding air pollution quality in the US in from 2000 to 2016.\n",
        "\n"
      ]
    },
    {
      "cell_type": "markdown",
      "metadata": {
        "id": "9uWZXH9LwoQg"
      },
      "source": [
        "---"
      ]
    },
    {
      "cell_type": "markdown",
      "metadata": {
        "id": "cqP-UeN-z3i2"
      },
      "source": [
        "# Change working directory"
      ]
    },
    {
      "cell_type": "markdown",
      "metadata": {},
      "source": [
        "* We are assuming you will store the notebooks in a subfolder, therefore when running the notebook in the editor, you will need to change the working directory"
      ]
    },
    {
      "cell_type": "markdown",
      "metadata": {
        "id": "aOGIGS-uz3i2"
      },
      "source": [
        "We need to change the working directory from its current folder to its parent folder\n",
        "* We access the current directory with os.getcwd()"
      ]
    },
    {
      "cell_type": "code",
      "execution_count": 1,
      "metadata": {
        "id": "wZfF_j-Bz3i4",
        "outputId": "66943449-1436-4c3d-85c7-b85f9f78349b"
      },
      "outputs": [
        {
          "data": {
            "text/plain": [
              "'c:\\\\Users\\\\F_bee\\\\Documents\\\\vs-code\\\\vs-code-projects\\\\air-quality-dashboard\\\\jupyter_notebooks'"
            ]
          },
          "execution_count": 1,
          "metadata": {},
          "output_type": "execute_result"
        }
      ],
      "source": [
        "import os\n",
        "current_dir = os.getcwd()\n",
        "current_dir"
      ]
    },
    {
      "cell_type": "markdown",
      "metadata": {
        "id": "9MWW8E7lz3i7"
      },
      "source": [
        "We want to make the parent of the current directory the new current directory\n",
        "* os.path.dirname() gets the parent directory\n",
        "* os.chir() defines the new current directory"
      ]
    },
    {
      "cell_type": "code",
      "execution_count": 2,
      "metadata": {
        "id": "TwHsQRWjz3i9",
        "outputId": "86849db3-cd2f-4cc5-ebb8-2d0caafa1a2c"
      },
      "outputs": [
        {
          "name": "stdout",
          "output_type": "stream",
          "text": [
            "You set a new current directory\n"
          ]
        }
      ],
      "source": [
        "os.chdir(os.path.dirname(current_dir))\n",
        "print(\"You set a new current directory\")"
      ]
    },
    {
      "cell_type": "markdown",
      "metadata": {
        "id": "M_xPk_Ijz3i-"
      },
      "source": [
        "Confirm the new current directory"
      ]
    },
    {
      "cell_type": "code",
      "execution_count": 3,
      "metadata": {
        "id": "vz3S-_kjz3jA",
        "outputId": "00b79ae4-75d0-4a96-d193-ac9ef9847ea2"
      },
      "outputs": [
        {
          "data": {
            "text/plain": [
              "'c:\\\\Users\\\\F_bee\\\\Documents\\\\vs-code\\\\vs-code-projects\\\\air-quality-dashboard'"
            ]
          },
          "execution_count": 3,
          "metadata": {},
          "output_type": "execute_result"
        }
      ],
      "source": [
        "current_dir = os.getcwd()\n",
        "current_dir"
      ]
    },
    {
      "cell_type": "markdown",
      "metadata": {
        "id": "-mavJ8DibrcQ"
      },
      "source": [
        "# Section 1"
      ]
    },
    {
      "cell_type": "markdown",
      "metadata": {},
      "source": [
        "Extract and read the data."
      ]
    },
    {
      "cell_type": "code",
      "execution_count": 4,
      "metadata": {},
      "outputs": [
        {
          "name": "stdout",
          "output_type": "stream",
          "text": [
            "All packages imported successfully!\n",
            "NumPy version: 1.26.1\n",
            "Pandas version: 2.1.1\n",
            "Scikit-learn version: 1.3.1\n",
            "Feature-engine version: 1.6.1\n"
          ]
        }
      ],
      "source": [
        "# Import all necessary packages\n",
        "import numpy as np\n",
        "import pandas as pd\n",
        "import sklearn as sk\n",
        "import feature_engine as fe \n",
        "from sklearn.preprocessing import FunctionTransformer\n",
        "from sklearn.pipeline import Pipeline\n",
        "from sklearn.compose import ColumnTransformer\n",
        "from sklearn.preprocessing import StandardScaler, OneHotEncoder\n",
        "\n",
        "print(\"All packages imported successfully!\")\n",
        "print(f\"NumPy version: {np.__version__}\")\n",
        "print(f\"Pandas version: {pd.__version__}\")\n",
        "print(f\"Scikit-learn version: {sk.__version__}\")\n",
        "print(f\"Feature-engine version: {fe.__version__}\")"
      ]
    },
    {
      "cell_type": "code",
      "execution_count": 5,
      "metadata": {},
      "outputs": [
        {
          "name": "stdout",
          "output_type": "stream",
          "text": [
            "Data loaded successfully!\n",
            "DataFrame shape: (1746661, 29)\n"
          ]
        },
        {
          "data": {
            "text/html": [
              "<div>\n",
              "<style scoped>\n",
              "    .dataframe tbody tr th:only-of-type {\n",
              "        vertical-align: middle;\n",
              "    }\n",
              "\n",
              "    .dataframe tbody tr th {\n",
              "        vertical-align: top;\n",
              "    }\n",
              "\n",
              "    .dataframe thead th {\n",
              "        text-align: right;\n",
              "    }\n",
              "</style>\n",
              "<table border=\"1\" class=\"dataframe\">\n",
              "  <thead>\n",
              "    <tr style=\"text-align: right;\">\n",
              "      <th></th>\n",
              "      <th>Unnamed: 0</th>\n",
              "      <th>State Code</th>\n",
              "      <th>County Code</th>\n",
              "      <th>Site Num</th>\n",
              "      <th>Address</th>\n",
              "      <th>State</th>\n",
              "      <th>County</th>\n",
              "      <th>City</th>\n",
              "      <th>Date Local</th>\n",
              "      <th>NO2 Units</th>\n",
              "      <th>...</th>\n",
              "      <th>SO2 Units</th>\n",
              "      <th>SO2 Mean</th>\n",
              "      <th>SO2 1st Max Value</th>\n",
              "      <th>SO2 1st Max Hour</th>\n",
              "      <th>SO2 AQI</th>\n",
              "      <th>CO Units</th>\n",
              "      <th>CO Mean</th>\n",
              "      <th>CO 1st Max Value</th>\n",
              "      <th>CO 1st Max Hour</th>\n",
              "      <th>CO AQI</th>\n",
              "    </tr>\n",
              "  </thead>\n",
              "  <tbody>\n",
              "    <tr>\n",
              "      <th>0</th>\n",
              "      <td>0</td>\n",
              "      <td>4</td>\n",
              "      <td>13</td>\n",
              "      <td>3002</td>\n",
              "      <td>1645 E ROOSEVELT ST-CENTRAL PHOENIX STN</td>\n",
              "      <td>Arizona</td>\n",
              "      <td>Maricopa</td>\n",
              "      <td>Phoenix</td>\n",
              "      <td>2000-01-01</td>\n",
              "      <td>Parts per billion</td>\n",
              "      <td>...</td>\n",
              "      <td>Parts per billion</td>\n",
              "      <td>3.000000</td>\n",
              "      <td>9.0</td>\n",
              "      <td>21</td>\n",
              "      <td>13.0</td>\n",
              "      <td>Parts per million</td>\n",
              "      <td>1.145833</td>\n",
              "      <td>4.200</td>\n",
              "      <td>21</td>\n",
              "      <td>NaN</td>\n",
              "    </tr>\n",
              "    <tr>\n",
              "      <th>1</th>\n",
              "      <td>1</td>\n",
              "      <td>4</td>\n",
              "      <td>13</td>\n",
              "      <td>3002</td>\n",
              "      <td>1645 E ROOSEVELT ST-CENTRAL PHOENIX STN</td>\n",
              "      <td>Arizona</td>\n",
              "      <td>Maricopa</td>\n",
              "      <td>Phoenix</td>\n",
              "      <td>2000-01-01</td>\n",
              "      <td>Parts per billion</td>\n",
              "      <td>...</td>\n",
              "      <td>Parts per billion</td>\n",
              "      <td>3.000000</td>\n",
              "      <td>9.0</td>\n",
              "      <td>21</td>\n",
              "      <td>13.0</td>\n",
              "      <td>Parts per million</td>\n",
              "      <td>0.878947</td>\n",
              "      <td>2.200</td>\n",
              "      <td>23</td>\n",
              "      <td>25.0</td>\n",
              "    </tr>\n",
              "    <tr>\n",
              "      <th>2</th>\n",
              "      <td>2</td>\n",
              "      <td>4</td>\n",
              "      <td>13</td>\n",
              "      <td>3002</td>\n",
              "      <td>1645 E ROOSEVELT ST-CENTRAL PHOENIX STN</td>\n",
              "      <td>Arizona</td>\n",
              "      <td>Maricopa</td>\n",
              "      <td>Phoenix</td>\n",
              "      <td>2000-01-01</td>\n",
              "      <td>Parts per billion</td>\n",
              "      <td>...</td>\n",
              "      <td>Parts per billion</td>\n",
              "      <td>2.975000</td>\n",
              "      <td>6.6</td>\n",
              "      <td>23</td>\n",
              "      <td>NaN</td>\n",
              "      <td>Parts per million</td>\n",
              "      <td>1.145833</td>\n",
              "      <td>4.200</td>\n",
              "      <td>21</td>\n",
              "      <td>NaN</td>\n",
              "    </tr>\n",
              "    <tr>\n",
              "      <th>3</th>\n",
              "      <td>3</td>\n",
              "      <td>4</td>\n",
              "      <td>13</td>\n",
              "      <td>3002</td>\n",
              "      <td>1645 E ROOSEVELT ST-CENTRAL PHOENIX STN</td>\n",
              "      <td>Arizona</td>\n",
              "      <td>Maricopa</td>\n",
              "      <td>Phoenix</td>\n",
              "      <td>2000-01-01</td>\n",
              "      <td>Parts per billion</td>\n",
              "      <td>...</td>\n",
              "      <td>Parts per billion</td>\n",
              "      <td>2.975000</td>\n",
              "      <td>6.6</td>\n",
              "      <td>23</td>\n",
              "      <td>NaN</td>\n",
              "      <td>Parts per million</td>\n",
              "      <td>0.878947</td>\n",
              "      <td>2.200</td>\n",
              "      <td>23</td>\n",
              "      <td>25.0</td>\n",
              "    </tr>\n",
              "    <tr>\n",
              "      <th>4</th>\n",
              "      <td>4</td>\n",
              "      <td>4</td>\n",
              "      <td>13</td>\n",
              "      <td>3002</td>\n",
              "      <td>1645 E ROOSEVELT ST-CENTRAL PHOENIX STN</td>\n",
              "      <td>Arizona</td>\n",
              "      <td>Maricopa</td>\n",
              "      <td>Phoenix</td>\n",
              "      <td>2000-01-02</td>\n",
              "      <td>Parts per billion</td>\n",
              "      <td>...</td>\n",
              "      <td>Parts per billion</td>\n",
              "      <td>1.958333</td>\n",
              "      <td>3.0</td>\n",
              "      <td>22</td>\n",
              "      <td>4.0</td>\n",
              "      <td>Parts per million</td>\n",
              "      <td>0.850000</td>\n",
              "      <td>1.600</td>\n",
              "      <td>23</td>\n",
              "      <td>NaN</td>\n",
              "    </tr>\n",
              "    <tr>\n",
              "      <th>...</th>\n",
              "      <td>...</td>\n",
              "      <td>...</td>\n",
              "      <td>...</td>\n",
              "      <td>...</td>\n",
              "      <td>...</td>\n",
              "      <td>...</td>\n",
              "      <td>...</td>\n",
              "      <td>...</td>\n",
              "      <td>...</td>\n",
              "      <td>...</td>\n",
              "      <td>...</td>\n",
              "      <td>...</td>\n",
              "      <td>...</td>\n",
              "      <td>...</td>\n",
              "      <td>...</td>\n",
              "      <td>...</td>\n",
              "      <td>...</td>\n",
              "      <td>...</td>\n",
              "      <td>...</td>\n",
              "      <td>...</td>\n",
              "      <td>...</td>\n",
              "    </tr>\n",
              "    <tr>\n",
              "      <th>1746656</th>\n",
              "      <td>24599</td>\n",
              "      <td>56</td>\n",
              "      <td>21</td>\n",
              "      <td>100</td>\n",
              "      <td>NCore - North Cheyenne Soccer Complex</td>\n",
              "      <td>Wyoming</td>\n",
              "      <td>Laramie</td>\n",
              "      <td>Not in a city</td>\n",
              "      <td>2016-03-30</td>\n",
              "      <td>Parts per billion</td>\n",
              "      <td>...</td>\n",
              "      <td>Parts per billion</td>\n",
              "      <td>0.000000</td>\n",
              "      <td>0.0</td>\n",
              "      <td>2</td>\n",
              "      <td>NaN</td>\n",
              "      <td>Parts per million</td>\n",
              "      <td>0.091667</td>\n",
              "      <td>0.100</td>\n",
              "      <td>2</td>\n",
              "      <td>1.0</td>\n",
              "    </tr>\n",
              "    <tr>\n",
              "      <th>1746657</th>\n",
              "      <td>24600</td>\n",
              "      <td>56</td>\n",
              "      <td>21</td>\n",
              "      <td>100</td>\n",
              "      <td>NCore - North Cheyenne Soccer Complex</td>\n",
              "      <td>Wyoming</td>\n",
              "      <td>Laramie</td>\n",
              "      <td>Not in a city</td>\n",
              "      <td>2016-03-31</td>\n",
              "      <td>Parts per billion</td>\n",
              "      <td>...</td>\n",
              "      <td>Parts per billion</td>\n",
              "      <td>-0.022727</td>\n",
              "      <td>0.0</td>\n",
              "      <td>0</td>\n",
              "      <td>0.0</td>\n",
              "      <td>Parts per million</td>\n",
              "      <td>0.067714</td>\n",
              "      <td>0.127</td>\n",
              "      <td>0</td>\n",
              "      <td>NaN</td>\n",
              "    </tr>\n",
              "    <tr>\n",
              "      <th>1746658</th>\n",
              "      <td>24601</td>\n",
              "      <td>56</td>\n",
              "      <td>21</td>\n",
              "      <td>100</td>\n",
              "      <td>NCore - North Cheyenne Soccer Complex</td>\n",
              "      <td>Wyoming</td>\n",
              "      <td>Laramie</td>\n",
              "      <td>Not in a city</td>\n",
              "      <td>2016-03-31</td>\n",
              "      <td>Parts per billion</td>\n",
              "      <td>...</td>\n",
              "      <td>Parts per billion</td>\n",
              "      <td>-0.022727</td>\n",
              "      <td>0.0</td>\n",
              "      <td>0</td>\n",
              "      <td>0.0</td>\n",
              "      <td>Parts per million</td>\n",
              "      <td>0.100000</td>\n",
              "      <td>0.100</td>\n",
              "      <td>0</td>\n",
              "      <td>1.0</td>\n",
              "    </tr>\n",
              "    <tr>\n",
              "      <th>1746659</th>\n",
              "      <td>24602</td>\n",
              "      <td>56</td>\n",
              "      <td>21</td>\n",
              "      <td>100</td>\n",
              "      <td>NCore - North Cheyenne Soccer Complex</td>\n",
              "      <td>Wyoming</td>\n",
              "      <td>Laramie</td>\n",
              "      <td>Not in a city</td>\n",
              "      <td>2016-03-31</td>\n",
              "      <td>Parts per billion</td>\n",
              "      <td>...</td>\n",
              "      <td>Parts per billion</td>\n",
              "      <td>0.000000</td>\n",
              "      <td>0.0</td>\n",
              "      <td>5</td>\n",
              "      <td>NaN</td>\n",
              "      <td>Parts per million</td>\n",
              "      <td>0.067714</td>\n",
              "      <td>0.127</td>\n",
              "      <td>0</td>\n",
              "      <td>NaN</td>\n",
              "    </tr>\n",
              "    <tr>\n",
              "      <th>1746660</th>\n",
              "      <td>24603</td>\n",
              "      <td>56</td>\n",
              "      <td>21</td>\n",
              "      <td>100</td>\n",
              "      <td>NCore - North Cheyenne Soccer Complex</td>\n",
              "      <td>Wyoming</td>\n",
              "      <td>Laramie</td>\n",
              "      <td>Not in a city</td>\n",
              "      <td>2016-03-31</td>\n",
              "      <td>Parts per billion</td>\n",
              "      <td>...</td>\n",
              "      <td>Parts per billion</td>\n",
              "      <td>0.000000</td>\n",
              "      <td>0.0</td>\n",
              "      <td>5</td>\n",
              "      <td>NaN</td>\n",
              "      <td>Parts per million</td>\n",
              "      <td>0.100000</td>\n",
              "      <td>0.100</td>\n",
              "      <td>0</td>\n",
              "      <td>1.0</td>\n",
              "    </tr>\n",
              "  </tbody>\n",
              "</table>\n",
              "<p>1746661 rows × 29 columns</p>\n",
              "</div>"
            ],
            "text/plain": [
              "         Unnamed: 0  State Code  County Code  Site Num  \\\n",
              "0                 0           4           13      3002   \n",
              "1                 1           4           13      3002   \n",
              "2                 2           4           13      3002   \n",
              "3                 3           4           13      3002   \n",
              "4                 4           4           13      3002   \n",
              "...             ...         ...          ...       ...   \n",
              "1746656       24599          56           21       100   \n",
              "1746657       24600          56           21       100   \n",
              "1746658       24601          56           21       100   \n",
              "1746659       24602          56           21       100   \n",
              "1746660       24603          56           21       100   \n",
              "\n",
              "                                         Address    State    County  \\\n",
              "0        1645 E ROOSEVELT ST-CENTRAL PHOENIX STN  Arizona  Maricopa   \n",
              "1        1645 E ROOSEVELT ST-CENTRAL PHOENIX STN  Arizona  Maricopa   \n",
              "2        1645 E ROOSEVELT ST-CENTRAL PHOENIX STN  Arizona  Maricopa   \n",
              "3        1645 E ROOSEVELT ST-CENTRAL PHOENIX STN  Arizona  Maricopa   \n",
              "4        1645 E ROOSEVELT ST-CENTRAL PHOENIX STN  Arizona  Maricopa   \n",
              "...                                          ...      ...       ...   \n",
              "1746656    NCore - North Cheyenne Soccer Complex  Wyoming   Laramie   \n",
              "1746657    NCore - North Cheyenne Soccer Complex  Wyoming   Laramie   \n",
              "1746658    NCore - North Cheyenne Soccer Complex  Wyoming   Laramie   \n",
              "1746659    NCore - North Cheyenne Soccer Complex  Wyoming   Laramie   \n",
              "1746660    NCore - North Cheyenne Soccer Complex  Wyoming   Laramie   \n",
              "\n",
              "                  City  Date Local          NO2 Units  ...          SO2 Units  \\\n",
              "0              Phoenix  2000-01-01  Parts per billion  ...  Parts per billion   \n",
              "1              Phoenix  2000-01-01  Parts per billion  ...  Parts per billion   \n",
              "2              Phoenix  2000-01-01  Parts per billion  ...  Parts per billion   \n",
              "3              Phoenix  2000-01-01  Parts per billion  ...  Parts per billion   \n",
              "4              Phoenix  2000-01-02  Parts per billion  ...  Parts per billion   \n",
              "...                ...         ...                ...  ...                ...   \n",
              "1746656  Not in a city  2016-03-30  Parts per billion  ...  Parts per billion   \n",
              "1746657  Not in a city  2016-03-31  Parts per billion  ...  Parts per billion   \n",
              "1746658  Not in a city  2016-03-31  Parts per billion  ...  Parts per billion   \n",
              "1746659  Not in a city  2016-03-31  Parts per billion  ...  Parts per billion   \n",
              "1746660  Not in a city  2016-03-31  Parts per billion  ...  Parts per billion   \n",
              "\n",
              "         SO2 Mean  SO2 1st Max Value  SO2 1st Max Hour SO2 AQI  \\\n",
              "0        3.000000                9.0                21    13.0   \n",
              "1        3.000000                9.0                21    13.0   \n",
              "2        2.975000                6.6                23     NaN   \n",
              "3        2.975000                6.6                23     NaN   \n",
              "4        1.958333                3.0                22     4.0   \n",
              "...           ...                ...               ...     ...   \n",
              "1746656  0.000000                0.0                 2     NaN   \n",
              "1746657 -0.022727                0.0                 0     0.0   \n",
              "1746658 -0.022727                0.0                 0     0.0   \n",
              "1746659  0.000000                0.0                 5     NaN   \n",
              "1746660  0.000000                0.0                 5     NaN   \n",
              "\n",
              "                  CO Units   CO Mean  CO 1st Max Value  CO 1st Max Hour CO AQI  \n",
              "0        Parts per million  1.145833             4.200               21    NaN  \n",
              "1        Parts per million  0.878947             2.200               23   25.0  \n",
              "2        Parts per million  1.145833             4.200               21    NaN  \n",
              "3        Parts per million  0.878947             2.200               23   25.0  \n",
              "4        Parts per million  0.850000             1.600               23    NaN  \n",
              "...                    ...       ...               ...              ...    ...  \n",
              "1746656  Parts per million  0.091667             0.100                2    1.0  \n",
              "1746657  Parts per million  0.067714             0.127                0    NaN  \n",
              "1746658  Parts per million  0.100000             0.100                0    1.0  \n",
              "1746659  Parts per million  0.067714             0.127                0    NaN  \n",
              "1746660  Parts per million  0.100000             0.100                0    1.0  \n",
              "\n",
              "[1746661 rows x 29 columns]"
            ]
          },
          "execution_count": 5,
          "metadata": {},
          "output_type": "execute_result"
        }
      ],
      "source": [
        "# Read data and return full DataFrame with shape to make sure everything is working\n",
        "# Also return the data shape\n",
        "df = pd.read_csv(\"inputs/pollution_us_2000_2016.csv\")\n",
        "print(\"Data loaded successfully!\")\n",
        "print(f\"DataFrame shape: {df.shape}\")\n",
        "df"
      ]
    },
    {
      "cell_type": "code",
      "execution_count": 6,
      "metadata": {},
      "outputs": [
        {
          "data": {
            "text/html": [
              "<div>\n",
              "<style scoped>\n",
              "    .dataframe tbody tr th:only-of-type {\n",
              "        vertical-align: middle;\n",
              "    }\n",
              "\n",
              "    .dataframe tbody tr th {\n",
              "        vertical-align: top;\n",
              "    }\n",
              "\n",
              "    .dataframe thead th {\n",
              "        text-align: right;\n",
              "    }\n",
              "</style>\n",
              "<table border=\"1\" class=\"dataframe\">\n",
              "  <thead>\n",
              "    <tr style=\"text-align: right;\">\n",
              "      <th></th>\n",
              "      <th>Unnamed: 0</th>\n",
              "      <th>State Code</th>\n",
              "      <th>County Code</th>\n",
              "      <th>Site Num</th>\n",
              "      <th>Address</th>\n",
              "      <th>State</th>\n",
              "      <th>County</th>\n",
              "      <th>City</th>\n",
              "      <th>Date Local</th>\n",
              "      <th>NO2 Units</th>\n",
              "      <th>...</th>\n",
              "      <th>SO2 Units</th>\n",
              "      <th>SO2 Mean</th>\n",
              "      <th>SO2 1st Max Value</th>\n",
              "      <th>SO2 1st Max Hour</th>\n",
              "      <th>SO2 AQI</th>\n",
              "      <th>CO Units</th>\n",
              "      <th>CO Mean</th>\n",
              "      <th>CO 1st Max Value</th>\n",
              "      <th>CO 1st Max Hour</th>\n",
              "      <th>CO AQI</th>\n",
              "    </tr>\n",
              "  </thead>\n",
              "  <tbody>\n",
              "    <tr>\n",
              "      <th>0</th>\n",
              "      <td>0</td>\n",
              "      <td>4</td>\n",
              "      <td>13</td>\n",
              "      <td>3002</td>\n",
              "      <td>1645 E ROOSEVELT ST-CENTRAL PHOENIX STN</td>\n",
              "      <td>Arizona</td>\n",
              "      <td>Maricopa</td>\n",
              "      <td>Phoenix</td>\n",
              "      <td>2000-01-01</td>\n",
              "      <td>Parts per billion</td>\n",
              "      <td>...</td>\n",
              "      <td>Parts per billion</td>\n",
              "      <td>3.000000</td>\n",
              "      <td>9.0</td>\n",
              "      <td>21</td>\n",
              "      <td>13.0</td>\n",
              "      <td>Parts per million</td>\n",
              "      <td>1.145833</td>\n",
              "      <td>4.2</td>\n",
              "      <td>21</td>\n",
              "      <td>NaN</td>\n",
              "    </tr>\n",
              "    <tr>\n",
              "      <th>1</th>\n",
              "      <td>1</td>\n",
              "      <td>4</td>\n",
              "      <td>13</td>\n",
              "      <td>3002</td>\n",
              "      <td>1645 E ROOSEVELT ST-CENTRAL PHOENIX STN</td>\n",
              "      <td>Arizona</td>\n",
              "      <td>Maricopa</td>\n",
              "      <td>Phoenix</td>\n",
              "      <td>2000-01-01</td>\n",
              "      <td>Parts per billion</td>\n",
              "      <td>...</td>\n",
              "      <td>Parts per billion</td>\n",
              "      <td>3.000000</td>\n",
              "      <td>9.0</td>\n",
              "      <td>21</td>\n",
              "      <td>13.0</td>\n",
              "      <td>Parts per million</td>\n",
              "      <td>0.878947</td>\n",
              "      <td>2.2</td>\n",
              "      <td>23</td>\n",
              "      <td>25.0</td>\n",
              "    </tr>\n",
              "    <tr>\n",
              "      <th>2</th>\n",
              "      <td>2</td>\n",
              "      <td>4</td>\n",
              "      <td>13</td>\n",
              "      <td>3002</td>\n",
              "      <td>1645 E ROOSEVELT ST-CENTRAL PHOENIX STN</td>\n",
              "      <td>Arizona</td>\n",
              "      <td>Maricopa</td>\n",
              "      <td>Phoenix</td>\n",
              "      <td>2000-01-01</td>\n",
              "      <td>Parts per billion</td>\n",
              "      <td>...</td>\n",
              "      <td>Parts per billion</td>\n",
              "      <td>2.975000</td>\n",
              "      <td>6.6</td>\n",
              "      <td>23</td>\n",
              "      <td>NaN</td>\n",
              "      <td>Parts per million</td>\n",
              "      <td>1.145833</td>\n",
              "      <td>4.2</td>\n",
              "      <td>21</td>\n",
              "      <td>NaN</td>\n",
              "    </tr>\n",
              "    <tr>\n",
              "      <th>3</th>\n",
              "      <td>3</td>\n",
              "      <td>4</td>\n",
              "      <td>13</td>\n",
              "      <td>3002</td>\n",
              "      <td>1645 E ROOSEVELT ST-CENTRAL PHOENIX STN</td>\n",
              "      <td>Arizona</td>\n",
              "      <td>Maricopa</td>\n",
              "      <td>Phoenix</td>\n",
              "      <td>2000-01-01</td>\n",
              "      <td>Parts per billion</td>\n",
              "      <td>...</td>\n",
              "      <td>Parts per billion</td>\n",
              "      <td>2.975000</td>\n",
              "      <td>6.6</td>\n",
              "      <td>23</td>\n",
              "      <td>NaN</td>\n",
              "      <td>Parts per million</td>\n",
              "      <td>0.878947</td>\n",
              "      <td>2.2</td>\n",
              "      <td>23</td>\n",
              "      <td>25.0</td>\n",
              "    </tr>\n",
              "    <tr>\n",
              "      <th>4</th>\n",
              "      <td>4</td>\n",
              "      <td>4</td>\n",
              "      <td>13</td>\n",
              "      <td>3002</td>\n",
              "      <td>1645 E ROOSEVELT ST-CENTRAL PHOENIX STN</td>\n",
              "      <td>Arizona</td>\n",
              "      <td>Maricopa</td>\n",
              "      <td>Phoenix</td>\n",
              "      <td>2000-01-02</td>\n",
              "      <td>Parts per billion</td>\n",
              "      <td>...</td>\n",
              "      <td>Parts per billion</td>\n",
              "      <td>1.958333</td>\n",
              "      <td>3.0</td>\n",
              "      <td>22</td>\n",
              "      <td>4.0</td>\n",
              "      <td>Parts per million</td>\n",
              "      <td>0.850000</td>\n",
              "      <td>1.6</td>\n",
              "      <td>23</td>\n",
              "      <td>NaN</td>\n",
              "    </tr>\n",
              "  </tbody>\n",
              "</table>\n",
              "<p>5 rows × 29 columns</p>\n",
              "</div>"
            ],
            "text/plain": [
              "   Unnamed: 0  State Code  County Code  Site Num  \\\n",
              "0           0           4           13      3002   \n",
              "1           1           4           13      3002   \n",
              "2           2           4           13      3002   \n",
              "3           3           4           13      3002   \n",
              "4           4           4           13      3002   \n",
              "\n",
              "                                   Address    State    County     City  \\\n",
              "0  1645 E ROOSEVELT ST-CENTRAL PHOENIX STN  Arizona  Maricopa  Phoenix   \n",
              "1  1645 E ROOSEVELT ST-CENTRAL PHOENIX STN  Arizona  Maricopa  Phoenix   \n",
              "2  1645 E ROOSEVELT ST-CENTRAL PHOENIX STN  Arizona  Maricopa  Phoenix   \n",
              "3  1645 E ROOSEVELT ST-CENTRAL PHOENIX STN  Arizona  Maricopa  Phoenix   \n",
              "4  1645 E ROOSEVELT ST-CENTRAL PHOENIX STN  Arizona  Maricopa  Phoenix   \n",
              "\n",
              "   Date Local          NO2 Units  ...          SO2 Units  SO2 Mean  \\\n",
              "0  2000-01-01  Parts per billion  ...  Parts per billion  3.000000   \n",
              "1  2000-01-01  Parts per billion  ...  Parts per billion  3.000000   \n",
              "2  2000-01-01  Parts per billion  ...  Parts per billion  2.975000   \n",
              "3  2000-01-01  Parts per billion  ...  Parts per billion  2.975000   \n",
              "4  2000-01-02  Parts per billion  ...  Parts per billion  1.958333   \n",
              "\n",
              "   SO2 1st Max Value  SO2 1st Max Hour SO2 AQI           CO Units   CO Mean  \\\n",
              "0                9.0                21    13.0  Parts per million  1.145833   \n",
              "1                9.0                21    13.0  Parts per million  0.878947   \n",
              "2                6.6                23     NaN  Parts per million  1.145833   \n",
              "3                6.6                23     NaN  Parts per million  0.878947   \n",
              "4                3.0                22     4.0  Parts per million  0.850000   \n",
              "\n",
              "   CO 1st Max Value  CO 1st Max Hour CO AQI  \n",
              "0               4.2               21    NaN  \n",
              "1               2.2               23   25.0  \n",
              "2               4.2               21    NaN  \n",
              "3               2.2               23   25.0  \n",
              "4               1.6               23    NaN  \n",
              "\n",
              "[5 rows x 29 columns]"
            ]
          },
          "execution_count": 6,
          "metadata": {},
          "output_type": "execute_result"
        }
      ],
      "source": [
        "# Return the first five values of the DataFrame for future observation purposes where necessary\n",
        "df.head()"
      ]
    },
    {
      "cell_type": "code",
      "execution_count": 8,
      "metadata": {},
      "outputs": [
        {
          "name": "stdout",
          "output_type": "stream",
          "text": [
            "DataFrame shape: (436876, 29)\n",
            "Missing values dropped from df.\n"
          ]
        },
        {
          "data": {
            "text/html": [
              "<div>\n",
              "<style scoped>\n",
              "    .dataframe tbody tr th:only-of-type {\n",
              "        vertical-align: middle;\n",
              "    }\n",
              "\n",
              "    .dataframe tbody tr th {\n",
              "        vertical-align: top;\n",
              "    }\n",
              "\n",
              "    .dataframe thead th {\n",
              "        text-align: right;\n",
              "    }\n",
              "</style>\n",
              "<table border=\"1\" class=\"dataframe\">\n",
              "  <thead>\n",
              "    <tr style=\"text-align: right;\">\n",
              "      <th></th>\n",
              "      <th>Unnamed: 0</th>\n",
              "      <th>State Code</th>\n",
              "      <th>County Code</th>\n",
              "      <th>Site Num</th>\n",
              "      <th>Address</th>\n",
              "      <th>State</th>\n",
              "      <th>County</th>\n",
              "      <th>City</th>\n",
              "      <th>Date Local</th>\n",
              "      <th>NO2 Units</th>\n",
              "      <th>...</th>\n",
              "      <th>SO2 Units</th>\n",
              "      <th>SO2 Mean</th>\n",
              "      <th>SO2 1st Max Value</th>\n",
              "      <th>SO2 1st Max Hour</th>\n",
              "      <th>SO2 AQI</th>\n",
              "      <th>CO Units</th>\n",
              "      <th>CO Mean</th>\n",
              "      <th>CO 1st Max Value</th>\n",
              "      <th>CO 1st Max Hour</th>\n",
              "      <th>CO AQI</th>\n",
              "    </tr>\n",
              "  </thead>\n",
              "  <tbody>\n",
              "    <tr>\n",
              "      <th>1</th>\n",
              "      <td>1</td>\n",
              "      <td>4</td>\n",
              "      <td>13</td>\n",
              "      <td>3002</td>\n",
              "      <td>1645 E ROOSEVELT ST-CENTRAL PHOENIX STN</td>\n",
              "      <td>Arizona</td>\n",
              "      <td>Maricopa</td>\n",
              "      <td>Phoenix</td>\n",
              "      <td>2000-01-01</td>\n",
              "      <td>Parts per billion</td>\n",
              "      <td>...</td>\n",
              "      <td>Parts per billion</td>\n",
              "      <td>3.000000</td>\n",
              "      <td>9.0</td>\n",
              "      <td>21</td>\n",
              "      <td>13.0</td>\n",
              "      <td>Parts per million</td>\n",
              "      <td>0.878947</td>\n",
              "      <td>2.2</td>\n",
              "      <td>23</td>\n",
              "      <td>25.0</td>\n",
              "    </tr>\n",
              "    <tr>\n",
              "      <th>5</th>\n",
              "      <td>5</td>\n",
              "      <td>4</td>\n",
              "      <td>13</td>\n",
              "      <td>3002</td>\n",
              "      <td>1645 E ROOSEVELT ST-CENTRAL PHOENIX STN</td>\n",
              "      <td>Arizona</td>\n",
              "      <td>Maricopa</td>\n",
              "      <td>Phoenix</td>\n",
              "      <td>2000-01-02</td>\n",
              "      <td>Parts per billion</td>\n",
              "      <td>...</td>\n",
              "      <td>Parts per billion</td>\n",
              "      <td>1.958333</td>\n",
              "      <td>3.0</td>\n",
              "      <td>22</td>\n",
              "      <td>4.0</td>\n",
              "      <td>Parts per million</td>\n",
              "      <td>1.066667</td>\n",
              "      <td>2.3</td>\n",
              "      <td>0</td>\n",
              "      <td>26.0</td>\n",
              "    </tr>\n",
              "    <tr>\n",
              "      <th>9</th>\n",
              "      <td>9</td>\n",
              "      <td>4</td>\n",
              "      <td>13</td>\n",
              "      <td>3002</td>\n",
              "      <td>1645 E ROOSEVELT ST-CENTRAL PHOENIX STN</td>\n",
              "      <td>Arizona</td>\n",
              "      <td>Maricopa</td>\n",
              "      <td>Phoenix</td>\n",
              "      <td>2000-01-03</td>\n",
              "      <td>Parts per billion</td>\n",
              "      <td>...</td>\n",
              "      <td>Parts per billion</td>\n",
              "      <td>5.250000</td>\n",
              "      <td>11.0</td>\n",
              "      <td>19</td>\n",
              "      <td>16.0</td>\n",
              "      <td>Parts per million</td>\n",
              "      <td>1.762500</td>\n",
              "      <td>2.5</td>\n",
              "      <td>8</td>\n",
              "      <td>28.0</td>\n",
              "    </tr>\n",
              "    <tr>\n",
              "      <th>13</th>\n",
              "      <td>13</td>\n",
              "      <td>4</td>\n",
              "      <td>13</td>\n",
              "      <td>3002</td>\n",
              "      <td>1645 E ROOSEVELT ST-CENTRAL PHOENIX STN</td>\n",
              "      <td>Arizona</td>\n",
              "      <td>Maricopa</td>\n",
              "      <td>Phoenix</td>\n",
              "      <td>2000-01-04</td>\n",
              "      <td>Parts per billion</td>\n",
              "      <td>...</td>\n",
              "      <td>Parts per billion</td>\n",
              "      <td>7.083333</td>\n",
              "      <td>16.0</td>\n",
              "      <td>8</td>\n",
              "      <td>23.0</td>\n",
              "      <td>Parts per million</td>\n",
              "      <td>1.829167</td>\n",
              "      <td>3.0</td>\n",
              "      <td>23</td>\n",
              "      <td>34.0</td>\n",
              "    </tr>\n",
              "    <tr>\n",
              "      <th>17</th>\n",
              "      <td>17</td>\n",
              "      <td>4</td>\n",
              "      <td>13</td>\n",
              "      <td>3002</td>\n",
              "      <td>1645 E ROOSEVELT ST-CENTRAL PHOENIX STN</td>\n",
              "      <td>Arizona</td>\n",
              "      <td>Maricopa</td>\n",
              "      <td>Phoenix</td>\n",
              "      <td>2000-01-05</td>\n",
              "      <td>Parts per billion</td>\n",
              "      <td>...</td>\n",
              "      <td>Parts per billion</td>\n",
              "      <td>8.708333</td>\n",
              "      <td>15.0</td>\n",
              "      <td>7</td>\n",
              "      <td>21.0</td>\n",
              "      <td>Parts per million</td>\n",
              "      <td>2.700000</td>\n",
              "      <td>3.7</td>\n",
              "      <td>2</td>\n",
              "      <td>42.0</td>\n",
              "    </tr>\n",
              "  </tbody>\n",
              "</table>\n",
              "<p>5 rows × 29 columns</p>\n",
              "</div>"
            ],
            "text/plain": [
              "    Unnamed: 0  State Code  County Code  Site Num  \\\n",
              "1            1           4           13      3002   \n",
              "5            5           4           13      3002   \n",
              "9            9           4           13      3002   \n",
              "13          13           4           13      3002   \n",
              "17          17           4           13      3002   \n",
              "\n",
              "                                    Address    State    County     City  \\\n",
              "1   1645 E ROOSEVELT ST-CENTRAL PHOENIX STN  Arizona  Maricopa  Phoenix   \n",
              "5   1645 E ROOSEVELT ST-CENTRAL PHOENIX STN  Arizona  Maricopa  Phoenix   \n",
              "9   1645 E ROOSEVELT ST-CENTRAL PHOENIX STN  Arizona  Maricopa  Phoenix   \n",
              "13  1645 E ROOSEVELT ST-CENTRAL PHOENIX STN  Arizona  Maricopa  Phoenix   \n",
              "17  1645 E ROOSEVELT ST-CENTRAL PHOENIX STN  Arizona  Maricopa  Phoenix   \n",
              "\n",
              "    Date Local          NO2 Units  ...          SO2 Units  SO2 Mean  \\\n",
              "1   2000-01-01  Parts per billion  ...  Parts per billion  3.000000   \n",
              "5   2000-01-02  Parts per billion  ...  Parts per billion  1.958333   \n",
              "9   2000-01-03  Parts per billion  ...  Parts per billion  5.250000   \n",
              "13  2000-01-04  Parts per billion  ...  Parts per billion  7.083333   \n",
              "17  2000-01-05  Parts per billion  ...  Parts per billion  8.708333   \n",
              "\n",
              "    SO2 1st Max Value  SO2 1st Max Hour SO2 AQI           CO Units   CO Mean  \\\n",
              "1                 9.0                21    13.0  Parts per million  0.878947   \n",
              "5                 3.0                22     4.0  Parts per million  1.066667   \n",
              "9                11.0                19    16.0  Parts per million  1.762500   \n",
              "13               16.0                 8    23.0  Parts per million  1.829167   \n",
              "17               15.0                 7    21.0  Parts per million  2.700000   \n",
              "\n",
              "    CO 1st Max Value  CO 1st Max Hour CO AQI  \n",
              "1                2.2               23   25.0  \n",
              "5                2.3                0   26.0  \n",
              "9                2.5                8   28.0  \n",
              "13               3.0               23   34.0  \n",
              "17               3.7                2   42.0  \n",
              "\n",
              "[5 rows x 29 columns]"
            ]
          },
          "execution_count": 8,
          "metadata": {},
          "output_type": "execute_result"
        }
      ],
      "source": [
        "# Drop missing values from df1\n",
        "df = df.dropna()\n",
        "print(f\"DataFrame shape: {df.shape}\")\n",
        "print(\"Missing values dropped from df.\")\n",
        "df.head()"
      ]
    },
    {
      "cell_type": "code",
      "execution_count": 39,
      "metadata": {},
      "outputs": [
        {
          "name": "stdout",
          "output_type": "stream",
          "text": [
            "DataFrame shape: (2500, 29)\n"
          ]
        },
        {
          "data": {
            "text/html": [
              "<div>\n",
              "<style scoped>\n",
              "    .dataframe tbody tr th:only-of-type {\n",
              "        vertical-align: middle;\n",
              "    }\n",
              "\n",
              "    .dataframe tbody tr th {\n",
              "        vertical-align: top;\n",
              "    }\n",
              "\n",
              "    .dataframe thead th {\n",
              "        text-align: right;\n",
              "    }\n",
              "</style>\n",
              "<table border=\"1\" class=\"dataframe\">\n",
              "  <thead>\n",
              "    <tr style=\"text-align: right;\">\n",
              "      <th></th>\n",
              "      <th>Unnamed: 0</th>\n",
              "      <th>State Code</th>\n",
              "      <th>County Code</th>\n",
              "      <th>Site Num</th>\n",
              "      <th>Address</th>\n",
              "      <th>State</th>\n",
              "      <th>County</th>\n",
              "      <th>City</th>\n",
              "      <th>Date Local</th>\n",
              "      <th>NO2 Units</th>\n",
              "      <th>...</th>\n",
              "      <th>SO2 Units</th>\n",
              "      <th>SO2 Mean</th>\n",
              "      <th>SO2 1st Max Value</th>\n",
              "      <th>SO2 1st Max Hour</th>\n",
              "      <th>SO2 AQI</th>\n",
              "      <th>CO Units</th>\n",
              "      <th>CO Mean</th>\n",
              "      <th>CO 1st Max Value</th>\n",
              "      <th>CO 1st Max Hour</th>\n",
              "      <th>CO AQI</th>\n",
              "    </tr>\n",
              "  </thead>\n",
              "  <tbody>\n",
              "    <tr>\n",
              "      <th>729196</th>\n",
              "      <td>99891</td>\n",
              "      <td>45</td>\n",
              "      <td>19</td>\n",
              "      <td>46</td>\n",
              "      <td>390 BULLS ISLAND ROAD (AWENDAW) [Cape Romain]</td>\n",
              "      <td>South Carolina</td>\n",
              "      <td>Charleston</td>\n",
              "      <td>Not in a city</td>\n",
              "      <td>2007-10-22</td>\n",
              "      <td>Parts per billion</td>\n",
              "      <td>...</td>\n",
              "      <td>Parts per billion</td>\n",
              "      <td>0.000000</td>\n",
              "      <td>0.0</td>\n",
              "      <td>0</td>\n",
              "      <td>0.0</td>\n",
              "      <td>Parts per million</td>\n",
              "      <td>0.200000</td>\n",
              "      <td>0.2</td>\n",
              "      <td>0</td>\n",
              "      <td>2.0</td>\n",
              "    </tr>\n",
              "    <tr>\n",
              "      <th>156520</th>\n",
              "      <td>64874</td>\n",
              "      <td>36</td>\n",
              "      <td>81</td>\n",
              "      <td>97</td>\n",
              "      <td>56TH AVE AT SPRINGFIELD BLVD</td>\n",
              "      <td>New York</td>\n",
              "      <td>Queens</td>\n",
              "      <td>New York</td>\n",
              "      <td>2001-07-11</td>\n",
              "      <td>Parts per billion</td>\n",
              "      <td>...</td>\n",
              "      <td>Parts per billion</td>\n",
              "      <td>5.041667</td>\n",
              "      <td>18.0</td>\n",
              "      <td>11</td>\n",
              "      <td>26.0</td>\n",
              "      <td>Parts per million</td>\n",
              "      <td>0.429167</td>\n",
              "      <td>0.5</td>\n",
              "      <td>2</td>\n",
              "      <td>6.0</td>\n",
              "    </tr>\n",
              "    <tr>\n",
              "      <th>1473635</th>\n",
              "      <td>9223</td>\n",
              "      <td>5</td>\n",
              "      <td>119</td>\n",
              "      <td>7</td>\n",
              "      <td>PIKE AVE AT RIVER ROAD</td>\n",
              "      <td>Arkansas</td>\n",
              "      <td>Pulaski</td>\n",
              "      <td>North Little Rock</td>\n",
              "      <td>2014-07-28</td>\n",
              "      <td>Parts per billion</td>\n",
              "      <td>...</td>\n",
              "      <td>Parts per billion</td>\n",
              "      <td>0.652174</td>\n",
              "      <td>0.8</td>\n",
              "      <td>12</td>\n",
              "      <td>0.0</td>\n",
              "      <td>Parts per million</td>\n",
              "      <td>0.237500</td>\n",
              "      <td>0.3</td>\n",
              "      <td>0</td>\n",
              "      <td>3.0</td>\n",
              "    </tr>\n",
              "    <tr>\n",
              "      <th>1334075</th>\n",
              "      <td>4239</td>\n",
              "      <td>5</td>\n",
              "      <td>119</td>\n",
              "      <td>7</td>\n",
              "      <td>PIKE AVE AT RIVER ROAD</td>\n",
              "      <td>Arkansas</td>\n",
              "      <td>Pulaski</td>\n",
              "      <td>North Little Rock</td>\n",
              "      <td>2013-01-12</td>\n",
              "      <td>Parts per billion</td>\n",
              "      <td>...</td>\n",
              "      <td>Parts per billion</td>\n",
              "      <td>0.887500</td>\n",
              "      <td>1.2</td>\n",
              "      <td>0</td>\n",
              "      <td>1.0</td>\n",
              "      <td>Parts per million</td>\n",
              "      <td>1.083333</td>\n",
              "      <td>1.2</td>\n",
              "      <td>0</td>\n",
              "      <td>14.0</td>\n",
              "    </tr>\n",
              "    <tr>\n",
              "      <th>218156</th>\n",
              "      <td>37039</td>\n",
              "      <td>6</td>\n",
              "      <td>83</td>\n",
              "      <td>4003</td>\n",
              "      <td>STS POWER PLANT, VANDENBERG AFB</td>\n",
              "      <td>California</td>\n",
              "      <td>Santa Barbara</td>\n",
              "      <td>Vandenberg Air Force Base</td>\n",
              "      <td>2002-01-27</td>\n",
              "      <td>Parts per billion</td>\n",
              "      <td>...</td>\n",
              "      <td>Parts per billion</td>\n",
              "      <td>0.130435</td>\n",
              "      <td>1.0</td>\n",
              "      <td>20</td>\n",
              "      <td>1.0</td>\n",
              "      <td>Parts per million</td>\n",
              "      <td>0.200000</td>\n",
              "      <td>0.2</td>\n",
              "      <td>0</td>\n",
              "      <td>2.0</td>\n",
              "    </tr>\n",
              "  </tbody>\n",
              "</table>\n",
              "<p>5 rows × 29 columns</p>\n",
              "</div>"
            ],
            "text/plain": [
              "         Unnamed: 0  State Code  County Code  Site Num  \\\n",
              "729196        99891          45           19        46   \n",
              "156520        64874          36           81        97   \n",
              "1473635        9223           5          119         7   \n",
              "1334075        4239           5          119         7   \n",
              "218156        37039           6           83      4003   \n",
              "\n",
              "                                               Address           State  \\\n",
              "729196   390 BULLS ISLAND ROAD (AWENDAW) [Cape Romain]  South Carolina   \n",
              "156520                    56TH AVE AT SPRINGFIELD BLVD        New York   \n",
              "1473635                         PIKE AVE AT RIVER ROAD        Arkansas   \n",
              "1334075                         PIKE AVE AT RIVER ROAD        Arkansas   \n",
              "218156                 STS POWER PLANT, VANDENBERG AFB      California   \n",
              "\n",
              "                County                       City  Date Local  \\\n",
              "729196      Charleston              Not in a city  2007-10-22   \n",
              "156520          Queens                   New York  2001-07-11   \n",
              "1473635        Pulaski          North Little Rock  2014-07-28   \n",
              "1334075        Pulaski          North Little Rock  2013-01-12   \n",
              "218156   Santa Barbara  Vandenberg Air Force Base  2002-01-27   \n",
              "\n",
              "                 NO2 Units  ...          SO2 Units  SO2 Mean  \\\n",
              "729196   Parts per billion  ...  Parts per billion  0.000000   \n",
              "156520   Parts per billion  ...  Parts per billion  5.041667   \n",
              "1473635  Parts per billion  ...  Parts per billion  0.652174   \n",
              "1334075  Parts per billion  ...  Parts per billion  0.887500   \n",
              "218156   Parts per billion  ...  Parts per billion  0.130435   \n",
              "\n",
              "         SO2 1st Max Value  SO2 1st Max Hour SO2 AQI           CO Units  \\\n",
              "729196                 0.0                 0     0.0  Parts per million   \n",
              "156520                18.0                11    26.0  Parts per million   \n",
              "1473635                0.8                12     0.0  Parts per million   \n",
              "1334075                1.2                 0     1.0  Parts per million   \n",
              "218156                 1.0                20     1.0  Parts per million   \n",
              "\n",
              "          CO Mean  CO 1st Max Value  CO 1st Max Hour CO AQI  \n",
              "729196   0.200000               0.2                0    2.0  \n",
              "156520   0.429167               0.5                2    6.0  \n",
              "1473635  0.237500               0.3                0    3.0  \n",
              "1334075  1.083333               1.2                0   14.0  \n",
              "218156   0.200000               0.2                0    2.0  \n",
              "\n",
              "[5 rows x 29 columns]"
            ]
          },
          "execution_count": 39,
          "metadata": {},
          "output_type": "execute_result"
        }
      ],
      "source": [
        "# Extract a random, fractioned sample of the data of 2500 values for analytic purposes\n",
        "# Also return the new data shape\n",
        "df1 = df.sample(frac=0.005722, random_state=10)\n",
        "print(f\"DataFrame shape: {df1.shape}\")\n",
        "df1.head()"
      ]
    },
    {
      "cell_type": "markdown",
      "metadata": {
        "id": "ZY3l0-AxO93d"
      },
      "source": [
        "---"
      ]
    },
    {
      "cell_type": "markdown",
      "metadata": {
        "id": "uFQo3ycuO-v6"
      },
      "source": [
        "# Section 2"
      ]
    },
    {
      "cell_type": "markdown",
      "metadata": {},
      "source": [
        "Begin to transform the data, creating transformers and the pipeline code."
      ]
    },
    {
      "cell_type": "code",
      "execution_count": 40,
      "metadata": {},
      "outputs": [
        {
          "name": "stdout",
          "output_type": "stream",
          "text": [
            "Data loaded successfully!\n",
            "Available columns:\n",
            "['Unnamed: 0', 'State Code', 'County Code', 'Site Num', 'Address', 'State', 'County', 'City', 'Date Local', 'NO2 Units', 'NO2 Mean', 'NO2 1st Max Value', 'NO2 1st Max Hour', 'NO2 AQI', 'O3 Units', 'O3 Mean', 'O3 1st Max Value', 'O3 1st Max Hour', 'O3 AQI', 'SO2 Units', 'SO2 Mean', 'SO2 1st Max Value', 'SO2 1st Max Hour', 'SO2 AQI', 'CO Units', 'CO Mean', 'CO 1st Max Value', 'CO 1st Max Hour', 'CO AQI']\n"
          ]
        }
      ],
      "source": [
        "# Check the current columns\n",
        "print(\"Data loaded successfully!\")\n",
        "print(\"Available columns:\")\n",
        "print(df.columns.tolist())"
      ]
    },
    {
      "cell_type": "code",
      "execution_count": 41,
      "metadata": {},
      "outputs": [
        {
          "name": "stdout",
          "output_type": "stream",
          "text": [
            "Minimum values for numerical columns:\n",
            "Unnamed: 0           29.000000\n",
            "State Code            1.000000\n",
            "County Code           1.000000\n",
            "Site Num              1.000000\n",
            "NO2 Mean             -0.114286\n",
            "NO2 1st Max Value     0.000000\n",
            "NO2 1st Max Hour      0.000000\n",
            "NO2 AQI               0.000000\n",
            "O3 Mean               0.000625\n",
            "O3 1st Max Value      0.002000\n",
            "O3 1st Max Hour       0.000000\n",
            "O3 AQI                2.000000\n",
            "SO2 Mean             -1.000000\n",
            "SO2 1st Max Value    -1.000000\n",
            "SO2 1st Max Hour      0.000000\n",
            "SO2 AQI               0.000000\n",
            "CO Mean               0.000000\n",
            "CO 1st Max Value      0.000000\n",
            "CO 1st Max Hour       0.000000\n",
            "CO AQI                0.000000\n",
            "dtype: float64\n"
          ]
        }
      ],
      "source": [
        "# Check minimum values for numerical columns only\n",
        "print(\"Minimum values for numerical columns:\")\n",
        "print(df1.select_dtypes(include=\"number\").min())"
      ]
    },
    {
      "cell_type": "code",
      "execution_count": 42,
      "metadata": {},
      "outputs": [
        {
          "name": "stdout",
          "output_type": "stream",
          "text": [
            "Maximum values for numerical columns:\n",
            "Unnamed: 0           134289.000000\n",
            "State Code               80.000000\n",
            "County Code             650.000000\n",
            "Site Num               9997.000000\n",
            "NO2 Mean                 98.130435\n",
            "NO2 1st Max Value       157.000000\n",
            "NO2 1st Max Hour         23.000000\n",
            "NO2 AQI                 112.000000\n",
            "O3 Mean                   0.067333\n",
            "O3 1st Max Value          0.104000\n",
            "O3 1st Max Hour          23.000000\n",
            "O3 AQI                  172.000000\n",
            "SO2 Mean                 32.956522\n",
            "SO2 1st Max Value       131.000000\n",
            "SO2 1st Max Hour         23.000000\n",
            "SO2 AQI                 126.000000\n",
            "CO Mean                   3.491667\n",
            "CO 1st Max Value          5.600000\n",
            "CO 1st Max Hour          23.000000\n",
            "CO AQI                   62.000000\n",
            "dtype: float64\n"
          ]
        }
      ],
      "source": [
        "# Check maximum values for numerical columns only\n",
        "print(\"Maximum values for numerical columns:\")\n",
        "print(df1.select_dtypes(include=\"number\").max())"
      ]
    },
    {
      "cell_type": "code",
      "execution_count": null,
      "metadata": {},
      "outputs": [
        {
          "name": "stdout",
          "output_type": "stream",
          "text": [
            "Data loaded successfully!\n"
          ]
        },
        {
          "data": {
            "text/plain": [
              "0"
            ]
          },
          "execution_count": 43,
          "metadata": {},
          "output_type": "execute_result"
        }
      ],
      "source": [
        "print(\"Data loaded successfully!\")\n",
        "df1.duplicated().sum()"
      ]
    },
    {
      "cell_type": "code",
      "execution_count": null,
      "metadata": {},
      "outputs": [
        {
          "name": "stdout",
          "output_type": "stream",
          "text": [
            "Data loaded successfully!\n"
          ]
        },
        {
          "data": {
            "text/plain": [
              "Unnamed: 0           0\n",
              "State Code           0\n",
              "County Code          0\n",
              "Site Num             0\n",
              "Address              0\n",
              "State                0\n",
              "County               0\n",
              "City                 0\n",
              "Date Local           0\n",
              "NO2 Units            0\n",
              "NO2 Mean             0\n",
              "NO2 1st Max Value    0\n",
              "NO2 1st Max Hour     0\n",
              "NO2 AQI              0\n",
              "O3 Units             0\n",
              "O3 Mean              0\n",
              "O3 1st Max Value     0\n",
              "O3 1st Max Hour      0\n",
              "O3 AQI               0\n",
              "SO2 Units            0\n",
              "SO2 Mean             0\n",
              "SO2 1st Max Value    0\n",
              "SO2 1st Max Hour     0\n",
              "SO2 AQI              0\n",
              "CO Units             0\n",
              "CO Mean              0\n",
              "CO 1st Max Value     0\n",
              "CO 1st Max Hour      0\n",
              "CO AQI               0\n",
              "dtype: int64"
            ]
          },
          "execution_count": 44,
          "metadata": {},
          "output_type": "execute_result"
        }
      ],
      "source": [
        "print(\"Data loaded successfully!\") \n",
        "df1.isnull().sum()"
      ]
    },
    {
      "cell_type": "code",
      "execution_count": 45,
      "metadata": {},
      "outputs": [
        {
          "name": "stdout",
          "output_type": "stream",
          "text": [
            "Column names:\n",
            "['Unnamed: 0', 'State Code', 'County Code', 'Site Num', 'Address', 'State', 'County', 'City', 'Date Local', 'NO2 Units', 'NO2 Mean', 'NO2 1st Max Value', 'NO2 1st Max Hour', 'NO2 AQI', 'O3 Units', 'O3 Mean', 'O3 1st Max Value', 'O3 1st Max Hour', 'O3 AQI', 'SO2 Units', 'SO2 Mean', 'SO2 1st Max Value', 'SO2 1st Max Hour', 'SO2 AQI', 'CO Units', 'CO Mean', 'CO 1st Max Value', 'CO 1st Max Hour', 'CO AQI']\n",
            "DataFrame shape: (2500, 29)\n",
            "Unnamed: 0             int64\n",
            "State Code             int64\n",
            "County Code            int64\n",
            "Site Num               int64\n",
            "Address               object\n",
            "State                 object\n",
            "County                object\n",
            "City                  object\n",
            "Date Local            object\n",
            "NO2 Units             object\n",
            "NO2 Mean             float64\n",
            "NO2 1st Max Value    float64\n",
            "NO2 1st Max Hour       int64\n",
            "NO2 AQI                int64\n",
            "O3 Units              object\n",
            "O3 Mean              float64\n",
            "O3 1st Max Value     float64\n",
            "O3 1st Max Hour        int64\n",
            "O3 AQI                 int64\n",
            "SO2 Units             object\n",
            "SO2 Mean             float64\n",
            "SO2 1st Max Value    float64\n",
            "SO2 1st Max Hour       int64\n",
            "SO2 AQI              float64\n",
            "CO Units              object\n",
            "CO Mean              float64\n",
            "CO 1st Max Value     float64\n",
            "CO 1st Max Hour        int64\n",
            "CO AQI               float64\n",
            "dtype: object\n"
          ]
        }
      ],
      "source": [
        "# Print column names and their data types for df1\n",
        "print(\"Column names:\")\n",
        "print(df1.columns.tolist())\n",
        "print(f\"DataFrame shape: {df1.shape}\")\n",
        "print(df1.dtypes)"
      ]
    },
    {
      "cell_type": "code",
      "execution_count": 46,
      "metadata": {},
      "outputs": [
        {
          "name": "stdout",
          "output_type": "stream",
          "text": [
            "Columns with 'Unnamed' dropped.\n"
          ]
        }
      ],
      "source": [
        "# Drop columns with \"Unnamed\" in their name from df1\n",
        "df1 = df1.loc[:, ~df1.columns.str.contains(\"^Unnamed\")]\n",
        "print(\"Columns with 'Unnamed' dropped.\")"
      ]
    },
    {
      "cell_type": "code",
      "execution_count": 47,
      "metadata": {},
      "outputs": [
        {
          "name": "stdout",
          "output_type": "stream",
          "text": [
            "Column 'Site Num' renamed to 'Site Number'.\n"
          ]
        }
      ],
      "source": [
        "# Rename \"Site Num\" column to \"Site Number\" in df1\n",
        "df1 = df1.rename(columns={\"Site Num\": \"Site Number\"})\n",
        "print(\"Column 'Site Num' renamed to 'Site Number'.\")"
      ]
    },
    {
      "cell_type": "markdown",
      "metadata": {},
      "source": [
        "---"
      ]
    },
    {
      "cell_type": "markdown",
      "metadata": {},
      "source": [
        "# Section 3"
      ]
    },
    {
      "cell_type": "markdown",
      "metadata": {},
      "source": [
        "Load the data to the necessary file."
      ]
    },
    {
      "cell_type": "code",
      "execution_count": 49,
      "metadata": {},
      "outputs": [],
      "source": [
        "# Save the processed datasets\n",
        "df1.to_csv(\"outputs/analysis.csv\", index=False)"
      ]
    },
    {
      "cell_type": "markdown",
      "metadata": {},
      "source": [
        "---"
      ]
    },
    {
      "cell_type": "markdown",
      "metadata": {},
      "source": [
        "# Section 4"
      ]
    },
    {
      "cell_type": "markdown",
      "metadata": {},
      "source": [
        "Here are a few insights from this notebook:\n",
        "\n",
        "* The air pollution dataset covers US data from 2000 to 2016 and includes multiple pollutants and site information.\n",
        "* Data cleaning steps removed missing values and unnecessary columns, improving data quality for analysis.\n",
        "* The column \"Site Num\" was renamed to \"Site Number\" for clarity.\n",
        "* A random sample of 2,500 rows was extracted for efficient analysis.\n",
        "* The cleaned data is ready for further statistical analysis, visualization, or machine learning tasks."
      ]
    },
    {
      "cell_type": "markdown",
      "metadata": {},
      "source": [
        "NOTE"
      ]
    },
    {
      "cell_type": "markdown",
      "metadata": {},
      "source": [
        "* The dataset was very large so had to shorten it\n",
        "* Also, working against time constraints found itself difficult, though the necessary data was manifested"
      ]
    },
    {
      "cell_type": "markdown",
      "metadata": {},
      "source": [
        "---"
      ]
    },
    {
      "cell_type": "markdown",
      "metadata": {
        "id": "ltNetd085qHf"
      },
      "source": [
        "# Conclusion"
      ]
    },
    {
      "cell_type": "markdown",
      "metadata": {},
      "source": [
        "This ETL session was quite intriguing. Time was spent trying to deduce the right dataset to work with, but in the end the dataset was generated and loaded to further analyze."
      ]
    }
  ],
  "metadata": {
    "accelerator": "GPU",
    "colab": {
      "name": "Data Practitioner Jupyter Notebook.ipynb",
      "provenance": [],
      "toc_visible": true
    },
    "kernelspec": {
      "display_name": ".venv",
      "language": "python",
      "name": "python3"
    },
    "language_info": {
      "codemirror_mode": {
        "name": "ipython",
        "version": 3
      },
      "file_extension": ".py",
      "mimetype": "text/x-python",
      "name": "python",
      "nbconvert_exporter": "python",
      "pygments_lexer": "ipython3",
      "version": "3.12.8"
    },
    "orig_nbformat": 2
  },
  "nbformat": 4,
  "nbformat_minor": 2
}
